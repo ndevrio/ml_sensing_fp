{
  "nbformat": 4,
  "nbformat_minor": 0,
  "metadata": {
    "colab": {
      "provenance": [],
      "collapsed_sections": [
        "7xqX_mTYesyr"
      ]
    },
    "kernelspec": {
      "name": "python3",
      "display_name": "Python 3"
    },
    "language_info": {
      "name": "python"
    }
  },
  "cells": [
    {
      "cell_type": "markdown",
      "source": [
        "# 1. Data cleaning/pre-processing/filtering"
      ],
      "metadata": {
        "id": "vZGcsc6yYH62"
      }
    },
    {
      "cell_type": "markdown",
      "source": [
        "### library Set-up & Data Loading"
      ],
      "metadata": {
        "id": "Mw-jTidTYMB4"
      }
    },
    {
      "cell_type": "code",
      "source": [
        "!pip install tensorflow_decision_forests"
      ],
      "metadata": {
        "colab": {
          "base_uri": "https://localhost:8080/",
          "height": 1000
        },
        "id": "M_xj6rJ0D5DO",
        "outputId": "bf1358c6-1b38-4a2d-9482-fb96ebe4c1bf"
      },
      "execution_count": 57,
      "outputs": [
        {
          "output_type": "stream",
          "name": "stdout",
          "text": [
            "Looking in indexes: https://pypi.org/simple, https://us-python.pkg.dev/colab-wheels/public/simple/\n",
            "Collecting tensorflow_decision_forests\n",
            "  Downloading tensorflow_decision_forests-1.1.0-cp38-cp38-manylinux_2_17_x86_64.manylinux2014_x86_64.whl (16.2 MB)\n",
            "\u001b[K     |████████████████████████████████| 16.2 MB 4.6 MB/s \n",
            "\u001b[?25hRequirement already satisfied: numpy in /usr/local/lib/python3.8/dist-packages (from tensorflow_decision_forests) (1.21.6)\n",
            "Requirement already satisfied: absl-py in /usr/local/lib/python3.8/dist-packages (from tensorflow_decision_forests) (1.3.0)\n",
            "Requirement already satisfied: pandas in /usr/local/lib/python3.8/dist-packages (from tensorflow_decision_forests) (1.3.5)\n",
            "Collecting tensorflow~=2.11.0\n",
            "  Downloading tensorflow-2.11.0-cp38-cp38-manylinux_2_17_x86_64.manylinux2014_x86_64.whl (588.3 MB)\n",
            "\u001b[K     |████████████████████████████████| 588.3 MB 21 kB/s \n",
            "\u001b[?25hCollecting wurlitzer\n",
            "  Downloading wurlitzer-3.0.3-py3-none-any.whl (7.3 kB)\n",
            "Requirement already satisfied: wheel in /usr/local/lib/python3.8/dist-packages (from tensorflow_decision_forests) (0.38.4)\n",
            "Requirement already satisfied: six in /usr/local/lib/python3.8/dist-packages (from tensorflow_decision_forests) (1.15.0)\n",
            "Requirement already satisfied: typing-extensions>=3.6.6 in /usr/local/lib/python3.8/dist-packages (from tensorflow~=2.11.0->tensorflow_decision_forests) (4.1.1)\n",
            "Requirement already satisfied: grpcio<2.0,>=1.24.3 in /usr/local/lib/python3.8/dist-packages (from tensorflow~=2.11.0->tensorflow_decision_forests) (1.50.0)\n",
            "Collecting keras<2.12,>=2.11.0\n",
            "  Downloading keras-2.11.0-py2.py3-none-any.whl (1.7 MB)\n",
            "\u001b[K     |████████████████████████████████| 1.7 MB 51.1 MB/s \n",
            "\u001b[?25hRequirement already satisfied: h5py>=2.9.0 in /usr/local/lib/python3.8/dist-packages (from tensorflow~=2.11.0->tensorflow_decision_forests) (3.1.0)\n",
            "Requirement already satisfied: opt-einsum>=2.3.2 in /usr/local/lib/python3.8/dist-packages (from tensorflow~=2.11.0->tensorflow_decision_forests) (3.3.0)\n",
            "Requirement already satisfied: packaging in /usr/local/lib/python3.8/dist-packages (from tensorflow~=2.11.0->tensorflow_decision_forests) (21.3)\n",
            "Requirement already satisfied: google-pasta>=0.1.1 in /usr/local/lib/python3.8/dist-packages (from tensorflow~=2.11.0->tensorflow_decision_forests) (0.2.0)\n",
            "Requirement already satisfied: protobuf<3.20,>=3.9.2 in /usr/local/lib/python3.8/dist-packages (from tensorflow~=2.11.0->tensorflow_decision_forests) (3.19.6)\n",
            "Requirement already satisfied: setuptools in /usr/local/lib/python3.8/dist-packages (from tensorflow~=2.11.0->tensorflow_decision_forests) (57.4.0)\n",
            "Collecting tensorboard<2.12,>=2.11\n",
            "  Downloading tensorboard-2.11.0-py3-none-any.whl (6.0 MB)\n",
            "\u001b[K     |████████████████████████████████| 6.0 MB 53.0 MB/s \n",
            "\u001b[?25hRequirement already satisfied: gast<=0.4.0,>=0.2.1 in /usr/local/lib/python3.8/dist-packages (from tensorflow~=2.11.0->tensorflow_decision_forests) (0.4.0)\n",
            "Requirement already satisfied: libclang>=13.0.0 in /usr/local/lib/python3.8/dist-packages (from tensorflow~=2.11.0->tensorflow_decision_forests) (14.0.6)\n",
            "Collecting flatbuffers>=2.0\n",
            "  Downloading flatbuffers-22.11.23-py2.py3-none-any.whl (26 kB)\n",
            "Requirement already satisfied: termcolor>=1.1.0 in /usr/local/lib/python3.8/dist-packages (from tensorflow~=2.11.0->tensorflow_decision_forests) (2.1.1)\n",
            "Requirement already satisfied: tensorflow-io-gcs-filesystem>=0.23.1 in /usr/local/lib/python3.8/dist-packages (from tensorflow~=2.11.0->tensorflow_decision_forests) (0.28.0)\n",
            "Collecting tensorflow-estimator<2.12,>=2.11.0\n",
            "  Downloading tensorflow_estimator-2.11.0-py2.py3-none-any.whl (439 kB)\n",
            "\u001b[K     |████████████████████████████████| 439 kB 46.8 MB/s \n",
            "\u001b[?25hRequirement already satisfied: wrapt>=1.11.0 in /usr/local/lib/python3.8/dist-packages (from tensorflow~=2.11.0->tensorflow_decision_forests) (1.14.1)\n",
            "Requirement already satisfied: astunparse>=1.6.0 in /usr/local/lib/python3.8/dist-packages (from tensorflow~=2.11.0->tensorflow_decision_forests) (1.6.3)\n",
            "Requirement already satisfied: werkzeug>=1.0.1 in /usr/local/lib/python3.8/dist-packages (from tensorboard<2.12,>=2.11->tensorflow~=2.11.0->tensorflow_decision_forests) (1.0.1)\n",
            "Requirement already satisfied: requests<3,>=2.21.0 in /usr/local/lib/python3.8/dist-packages (from tensorboard<2.12,>=2.11->tensorflow~=2.11.0->tensorflow_decision_forests) (2.23.0)\n",
            "Requirement already satisfied: google-auth-oauthlib<0.5,>=0.4.1 in /usr/local/lib/python3.8/dist-packages (from tensorboard<2.12,>=2.11->tensorflow~=2.11.0->tensorflow_decision_forests) (0.4.6)\n",
            "Requirement already satisfied: google-auth<3,>=1.6.3 in /usr/local/lib/python3.8/dist-packages (from tensorboard<2.12,>=2.11->tensorflow~=2.11.0->tensorflow_decision_forests) (2.14.1)\n",
            "Requirement already satisfied: tensorboard-data-server<0.7.0,>=0.6.0 in /usr/local/lib/python3.8/dist-packages (from tensorboard<2.12,>=2.11->tensorflow~=2.11.0->tensorflow_decision_forests) (0.6.1)\n",
            "Requirement already satisfied: tensorboard-plugin-wit>=1.6.0 in /usr/local/lib/python3.8/dist-packages (from tensorboard<2.12,>=2.11->tensorflow~=2.11.0->tensorflow_decision_forests) (1.8.1)\n",
            "Requirement already satisfied: markdown>=2.6.8 in /usr/local/lib/python3.8/dist-packages (from tensorboard<2.12,>=2.11->tensorflow~=2.11.0->tensorflow_decision_forests) (3.4.1)\n",
            "Requirement already satisfied: pyasn1-modules>=0.2.1 in /usr/local/lib/python3.8/dist-packages (from google-auth<3,>=1.6.3->tensorboard<2.12,>=2.11->tensorflow~=2.11.0->tensorflow_decision_forests) (0.2.8)\n",
            "Requirement already satisfied: rsa<5,>=3.1.4 in /usr/local/lib/python3.8/dist-packages (from google-auth<3,>=1.6.3->tensorboard<2.12,>=2.11->tensorflow~=2.11.0->tensorflow_decision_forests) (4.9)\n",
            "Requirement already satisfied: cachetools<6.0,>=2.0.0 in /usr/local/lib/python3.8/dist-packages (from google-auth<3,>=1.6.3->tensorboard<2.12,>=2.11->tensorflow~=2.11.0->tensorflow_decision_forests) (5.2.0)\n",
            "Requirement already satisfied: requests-oauthlib>=0.7.0 in /usr/local/lib/python3.8/dist-packages (from google-auth-oauthlib<0.5,>=0.4.1->tensorboard<2.12,>=2.11->tensorflow~=2.11.0->tensorflow_decision_forests) (1.3.1)\n",
            "Requirement already satisfied: importlib-metadata>=4.4 in /usr/local/lib/python3.8/dist-packages (from markdown>=2.6.8->tensorboard<2.12,>=2.11->tensorflow~=2.11.0->tensorflow_decision_forests) (4.13.0)\n",
            "Requirement already satisfied: zipp>=0.5 in /usr/local/lib/python3.8/dist-packages (from importlib-metadata>=4.4->markdown>=2.6.8->tensorboard<2.12,>=2.11->tensorflow~=2.11.0->tensorflow_decision_forests) (3.10.0)\n",
            "Requirement already satisfied: pyasn1<0.5.0,>=0.4.6 in /usr/local/lib/python3.8/dist-packages (from pyasn1-modules>=0.2.1->google-auth<3,>=1.6.3->tensorboard<2.12,>=2.11->tensorflow~=2.11.0->tensorflow_decision_forests) (0.4.8)\n",
            "Requirement already satisfied: urllib3!=1.25.0,!=1.25.1,<1.26,>=1.21.1 in /usr/local/lib/python3.8/dist-packages (from requests<3,>=2.21.0->tensorboard<2.12,>=2.11->tensorflow~=2.11.0->tensorflow_decision_forests) (1.24.3)\n",
            "Requirement already satisfied: idna<3,>=2.5 in /usr/local/lib/python3.8/dist-packages (from requests<3,>=2.21.0->tensorboard<2.12,>=2.11->tensorflow~=2.11.0->tensorflow_decision_forests) (2.10)\n",
            "Requirement already satisfied: certifi>=2017.4.17 in /usr/local/lib/python3.8/dist-packages (from requests<3,>=2.21.0->tensorboard<2.12,>=2.11->tensorflow~=2.11.0->tensorflow_decision_forests) (2022.9.24)\n",
            "Requirement already satisfied: chardet<4,>=3.0.2 in /usr/local/lib/python3.8/dist-packages (from requests<3,>=2.21.0->tensorboard<2.12,>=2.11->tensorflow~=2.11.0->tensorflow_decision_forests) (3.0.4)\n",
            "Requirement already satisfied: oauthlib>=3.0.0 in /usr/local/lib/python3.8/dist-packages (from requests-oauthlib>=0.7.0->google-auth-oauthlib<0.5,>=0.4.1->tensorboard<2.12,>=2.11->tensorflow~=2.11.0->tensorflow_decision_forests) (3.2.2)\n",
            "Requirement already satisfied: pyparsing!=3.0.5,>=2.0.2 in /usr/local/lib/python3.8/dist-packages (from packaging->tensorflow~=2.11.0->tensorflow_decision_forests) (3.0.9)\n",
            "Requirement already satisfied: python-dateutil>=2.7.3 in /usr/local/lib/python3.8/dist-packages (from pandas->tensorflow_decision_forests) (2.8.2)\n",
            "Requirement already satisfied: pytz>=2017.3 in /usr/local/lib/python3.8/dist-packages (from pandas->tensorflow_decision_forests) (2022.6)\n",
            "Installing collected packages: tensorflow-estimator, tensorboard, keras, flatbuffers, wurlitzer, tensorflow, tensorflow-decision-forests\n",
            "  Attempting uninstall: tensorflow-estimator\n",
            "    Found existing installation: tensorflow-estimator 2.9.0\n",
            "    Uninstalling tensorflow-estimator-2.9.0:\n",
            "      Successfully uninstalled tensorflow-estimator-2.9.0\n",
            "  Attempting uninstall: tensorboard\n",
            "    Found existing installation: tensorboard 2.9.1\n",
            "    Uninstalling tensorboard-2.9.1:\n",
            "      Successfully uninstalled tensorboard-2.9.1\n",
            "  Attempting uninstall: keras\n",
            "    Found existing installation: keras 2.9.0\n",
            "    Uninstalling keras-2.9.0:\n",
            "      Successfully uninstalled keras-2.9.0\n",
            "  Attempting uninstall: flatbuffers\n",
            "    Found existing installation: flatbuffers 1.12\n",
            "    Uninstalling flatbuffers-1.12:\n",
            "      Successfully uninstalled flatbuffers-1.12\n",
            "  Attempting uninstall: tensorflow\n",
            "    Found existing installation: tensorflow 2.9.2\n",
            "    Uninstalling tensorflow-2.9.2:\n",
            "      Successfully uninstalled tensorflow-2.9.2\n",
            "Successfully installed flatbuffers-22.11.23 keras-2.11.0 tensorboard-2.11.0 tensorflow-2.11.0 tensorflow-decision-forests-1.1.0 tensorflow-estimator-2.11.0 wurlitzer-3.0.3\n"
          ]
        },
        {
          "output_type": "display_data",
          "data": {
            "application/vnd.colab-display-data+json": {
              "pip_warning": {
                "packages": [
                  "flatbuffers",
                  "keras",
                  "tensorboard",
                  "tensorflow"
                ]
              }
            }
          },
          "metadata": {}
        }
      ]
    },
    {
      "cell_type": "code",
      "execution_count": 1,
      "metadata": {
        "id": "thCkjCRUi9TP"
      },
      "outputs": [],
      "source": [
        "from matplotlib import pyplot as plt\n",
        "%matplotlib inline\n",
        "import numpy as np\n",
        "import pandas as pd\n",
        "import seaborn as sns\n",
        "from scipy import stats, interpolate\n",
        "from scipy.interpolate import interp1d\n",
        "from scipy.stats import mode\n",
        "\n",
        "from IPython.display import display, HTML\n",
        "\n",
        "from sklearn import metrics\n",
        "from sklearn.metrics import classification_report, confusion_matrix, ConfusionMatrixDisplay\n",
        "from sklearn import preprocessing\n",
        "from sklearn.preprocessing import LabelEncoder\n",
        "from sklearn.ensemble import RandomForestClassifier\n",
        "import tensorflow_decision_forests as tfdf\n",
        "\n",
        "import keras\n",
        "from keras.models import Sequential\n",
        "from keras.layers import Dense, Dropout, Flatten, Reshape, GlobalAveragePooling1D, BatchNormalization, MaxPool1D, Reshape, Activation\n",
        "from keras.layers import Conv1D, LSTM, Conv2D, MaxPooling2D\n",
        "from keras.utils import to_categorical\n",
        "from keras.callbacks import ModelCheckpoint, EarlyStopping"
      ]
    },
    {
      "cell_type": "code",
      "source": [
        "from google.colab import drive\n",
        "drive.mount('/content/drive')"
      ],
      "metadata": {
        "id": "S9gU0w1GmVcV",
        "colab": {
          "base_uri": "https://localhost:8080/"
        },
        "outputId": "f3e29b77-055b-49f1-abd4-a42cbdc9bbb5"
      },
      "execution_count": 2,
      "outputs": [
        {
          "output_type": "stream",
          "name": "stdout",
          "text": [
            "Drive already mounted at /content/drive; to attempt to forcibly remount, call drive.mount(\"/content/drive\", force_remount=True).\n"
          ]
        }
      ]
    },
    {
      "cell_type": "code",
      "source": [
        "pd.options.display.float_format = '{:.1f}'.format\n",
        "sns.set() # Default seaborn look and feel\n",
        "plt.style.use('ggplot')"
      ],
      "metadata": {
        "id": "rxLvHR_cdy8Q"
      },
      "execution_count": 3,
      "outputs": []
    },
    {
      "cell_type": "markdown",
      "source": [
        "### Helper Functions"
      ],
      "metadata": {
        "id": "l6_CSNlybi0c"
      }
    },
    {
      "cell_type": "markdown",
      "source": [
        "Define function to help remove NAN\n"
      ],
      "metadata": {
        "id": "EifQMtx8b0j_"
      }
    },
    {
      "cell_type": "code",
      "source": [
        "def convert_to_float(x):\n",
        "    try:\n",
        "        return np.float(x)\n",
        "    except:\n",
        "        return np.nan"
      ],
      "metadata": {
        "id": "p8fK9w-ebhtu"
      },
      "execution_count": 4,
      "outputs": []
    },
    {
      "cell_type": "markdown",
      "source": [
        "###Label Set-up"
      ],
      "metadata": {
        "id": "Z2mUt_z-Yr_o"
      }
    },
    {
      "cell_type": "code",
      "source": [
        "#info that will be reused throughout the program\n",
        "LABELS = ['front_left', \n",
        "          'front_right', \n",
        "          'back_left', \n",
        "          'back_right']\n",
        "TIME_PERIODS = 180\n",
        "STEP_DISTANCE = 60"
      ],
      "metadata": {
        "id": "lee8-T72Ypdi"
      },
      "execution_count": 65,
      "outputs": []
    },
    {
      "cell_type": "markdown",
      "source": [
        "### Load IMU Data"
      ],
      "metadata": {
        "id": "_IPA9FP8ezYt"
      }
    },
    {
      "cell_type": "code",
      "source": [
        "%cd /content/drive/MyDrive/ml_sensing_fproject/data\n",
        "\n",
        "fl_fns = []\n",
        "for i in range(1,7):\n",
        "  fl_fns.append(\"fl_pocket-0\" + str(i) + \".csv\")\n",
        "\n",
        "fr_fns = [\"fr_pocket-01.csv\"]\n",
        "bl_fns = [\"bl_pocket-01.csv\"]\n",
        "br_fns = [\"br_pocket-01.csv\"]\n",
        "\n",
        "# Read data files\n",
        "df_fl = pd.concat(map(pd.read_csv, fl_fns), ignore_index=True)\n",
        "df_fl[\"orientation\"] = 'front_left'\n",
        "\n",
        "df_fr = pd.concat(map(pd.read_csv, fr_fns), ignore_index=True)\n",
        "df_fr[\"orientation\"] = 'front_right'\n",
        "\n",
        "df_bl = pd.concat(map(pd.read_csv, bl_fns), ignore_index=True)\n",
        "df_bl[\"orientation\"] = 'back_left'\n",
        "\n",
        "df_br = pd.concat(map(pd.read_csv, br_fns), ignore_index=True)\n",
        "df_br[\"orientation\"] = 'back_right'"
      ],
      "metadata": {
        "id": "IK1Ztz3qlj2T",
        "colab": {
          "base_uri": "https://localhost:8080/"
        },
        "outputId": "a1380f88-34b3-47f4-85a1-eab08bcb6122"
      },
      "execution_count": 6,
      "outputs": [
        {
          "output_type": "stream",
          "name": "stdout",
          "text": [
            "/content/drive/MyDrive/ml_sensing_fproject/data\n"
          ]
        }
      ]
    },
    {
      "cell_type": "markdown",
      "source": [
        "###Data Cleaning & Filtering"
      ],
      "metadata": {
        "id": "lYZqduswZN39"
      }
    },
    {
      "cell_type": "code",
      "source": [
        "df_list = [df_fl, df_fr, df_bl, df_br]\n",
        "df = pd.concat(df_list, axis = 0)\n",
        "df['num'] = np.random.randint(1, 30, df.shape[0])\n",
        "\n",
        "# ... and then these columns must be transformed to float explicitly\n",
        "df[' AccelerationX'] = df[' AccelerationX'].apply(convert_to_float)\n",
        "df[ 'AccelerationY'] = df[' AccelerationY'].apply(convert_to_float)\n",
        "df[' AccelerationZ'] = df[' AccelerationZ'].apply(convert_to_float)\n",
        "\n",
        "df[' GyroX'] = df[' GyroX'].apply(convert_to_float)\n",
        "df[' GyroY'] = df[' GyroY'].apply(convert_to_float)\n",
        "df[' GyroZ'] = df[' GyroZ'].apply(convert_to_float)\n",
        "\n",
        "df[' MagneticFieldX'] = df[' MagneticFieldX'].apply(convert_to_float)\n",
        "df[' MagneticFieldY'] = df[' MagneticFieldY'].apply(convert_to_float)\n",
        "df[' MagneticFieldZ'] = df[' MagneticFieldZ'].apply(convert_to_float)\n",
        "\n",
        "# ... clean up all NAN\n",
        "df.dropna(axis=0, how='any', inplace=True)"
      ],
      "metadata": {
        "colab": {
          "base_uri": "https://localhost:8080/"
        },
        "id": "vgOwB88MZLjj",
        "outputId": "b2e29259-aab5-43d8-9066-0cda05eb97c5"
      },
      "execution_count": 7,
      "outputs": [
        {
          "output_type": "stream",
          "name": "stderr",
          "text": [
            "<ipython-input-4-106b90fe2a87>:3: DeprecationWarning: `np.float` is a deprecated alias for the builtin `float`. To silence this warning, use `float` by itself. Doing this will not modify any behavior and is safe. If you specifically wanted the numpy scalar type, use `np.float64` here.\n",
            "Deprecated in NumPy 1.20; for more details and guidance: https://numpy.org/devdocs/release/1.20.0-notes.html#deprecations\n",
            "  return np.float(x)\n"
          ]
        }
      ]
    },
    {
      "cell_type": "markdown",
      "source": [
        "Set up df with labels and get prepared for model training"
      ],
      "metadata": {
        "id": "vneS-viAeUTt"
      }
    },
    {
      "cell_type": "code",
      "source": [
        "LABEL = 'activityEncode'\n",
        "label_encode = preprocessing.LabelEncoder()\n",
        "df[LABEL] = label_encode.fit_transform(df['orientation'].values.ravel())"
      ],
      "metadata": {
        "id": "J71hRyureaFa"
      },
      "execution_count": 8,
      "outputs": []
    },
    {
      "cell_type": "markdown",
      "source": [
        "### Inspect the Accelerometer Data\n"
      ],
      "metadata": {
        "id": "7xqX_mTYesyr"
      }
    },
    {
      "cell_type": "code",
      "source": [
        "df['orientation'].value_counts().plot(kind='bar', title='Training sample size grouped by orientation type')\n",
        "plt.show()"
      ],
      "metadata": {
        "colab": {
          "base_uri": "https://localhost:8080/",
          "height": 333
        },
        "id": "SAksKeeg0SV-",
        "outputId": "97bba6c7-4d31-4563-c211-29212e677971"
      },
      "execution_count": 30,
      "outputs": [
        {
          "output_type": "display_data",
          "data": {
            "text/plain": [
              "<Figure size 432x288 with 1 Axes>"
            ],
            "image/png": "[encoded data removed]"
          },
          "metadata": {
            "needs_background": "light"
          }
        }
      ]
    },
    {
      "cell_type": "markdown",
      "source": [
        "Looking at the accelerometer data for each of the three axis for all four activities, since I recorded my data at a sampling rate of 20 Hz, I know I will have 20 values per second. \n",
        "\n",
        "I wanted to check out the first 180 records, each chart shows a 9 second interval for each of the four activities (calculation: 0.05 * 180 = 9 seconds)."
      ],
      "metadata": {
        "id": "gPTGFx9acQdr"
      }
    },
    {
      "cell_type": "markdown",
      "source": [
        "### Split Data into Training and Test Set\n"
      ],
      "metadata": {
        "id": "CWlr86Wwe3qc"
      }
    },
    {
      "cell_type": "markdown",
      "source": [
        "I decided to split the data based on the groups I assigned to cluster data. I put 'num' ID 1 to 25 for training the model and greater than 25 for the test set."
      ],
      "metadata": {
        "id": "ENx7ylAxd52d"
      }
    },
    {
      "cell_type": "code",
      "source": [
        "# Differentiate between test set and training set\n",
        "df_test = df[df['num'] > 25]\n",
        "df_train = df[df['num'] <= 25]"
      ],
      "metadata": {
        "id": "lkdV1vwdxcpt"
      },
      "execution_count": 9,
      "outputs": []
    },
    {
      "cell_type": "markdown",
      "source": [
        "### Data Pre-processing"
      ],
      "metadata": {
        "id": "D_a52c8OfD_o"
      }
    },
    {
      "cell_type": "markdown",
      "source": [
        "Normalize features for training data set (values between 0 and 1)"
      ],
      "metadata": {
        "id": "a3j9x8oNeogv"
      }
    },
    {
      "cell_type": "code",
      "source": [
        "# Normalize features for training data set (values between 0 and 1)\n",
        "df_train[' AccelerationX'] = (df_train[' AccelerationX']-df_train[' AccelerationX'].min())/(df_train[' AccelerationX'].max()-df_train[' AccelerationX'].min())\n",
        "df_train[' AccelerationY'] = (df_train[' AccelerationY']-df_train[' AccelerationY'].min())/(df_train[' AccelerationY'].max()-df_train[' AccelerationY'].min())\n",
        "df_train[' AccelerationZ'] = (df_train[' AccelerationZ']-df_train[' AccelerationZ'].min())/(df_train[' AccelerationZ'].max()-df_train[' AccelerationZ'].min())\n",
        "\n",
        "df_train[' MagneticFieldX'] = (df_train[' MagneticFieldX']-df_train[' MagneticFieldX'].min())/(df_train[' MagneticFieldX'].max()-df_train[' MagneticFieldX'].min())\n",
        "df_train[' MagneticFieldY'] = (df_train[' MagneticFieldY']-df_train[' MagneticFieldY'].min())/(df_train[' MagneticFieldY'].max()-df_train[' MagneticFieldY'].min())\n",
        "df_train[' MagneticFieldZ'] = (df_train[' MagneticFieldZ']-df_train[' MagneticFieldZ'].min())/(df_train[' MagneticFieldZ'].max()-df_train[' MagneticFieldZ'].min())\n",
        "\n",
        "df_train[' GyroX'] = (df_train[' GyroX']-df_train[' GyroX'].min())/(df_train[' GyroX'].max()-df_train[' GyroX'].min())\n",
        "df_train[' GyroY'] = (df_train[' GyroY']-df_train[' GyroY'].min())/(df_train[' GyroY'].max()-df_train[' GyroY'].min())\n",
        "df_train[' GyroZ'] = (df_train[' GyroZ']-df_train[' GyroZ'].min())/(df_train[' GyroZ'].max()-df_train[' GyroZ'].min())\n",
        "\n",
        "# Round numbers\n",
        "df_train = df_train.round({'x-axis': 4, 'y-axis': 4, 'z-axis': 4})"
      ],
      "metadata": {
        "id": "boB5BhA3DRGz"
      },
      "execution_count": 11,
      "outputs": []
    },
    {
      "cell_type": "markdown",
      "source": [
        "### Feature selection\n",
        "\n"
      ],
      "metadata": {
        "id": "-oRd0H_qexd5"
      }
    },
    {
      "cell_type": "markdown",
      "source": [
        "The data contained in the dataframe is not ready yet to be fed into a neural network. \n",
        "I need to reshape them into segments and prepare for Keras\n",
        "\n",
        "I created the following function which takes in the dataframe and the label names (the activity) as well as the length of each record. \n",
        "\n",
        "I set a preliminary choice of step to be 80. The consideration behind was that my data were captured at 20 Hz sampling rate, this equals to 5 second time intervals (calculation: 0.05 * 100 = 5). \n",
        "\n",
        "Besides reshaping the data, the function will also separate the features (AccelerationX, AccelerationY, AccelerationZ) and the labels (associated activity)."
      ],
      "metadata": {
        "id": "aIdFsrwPfLHn"
      }
    },
    {
      "cell_type": "code",
      "source": [
        "def create_segments_and_labels(df, time_steps, step, label_name):\n",
        "    # x, y, z acceleration as features\n",
        "    N_FEATURES = 9\n",
        "    # Number of steps to advance in each iteration (for me, it should always\n",
        "    # be equal to the time_steps in order to have no overlap between segments)\n",
        "    # step = time_steps\n",
        "    segments = []\n",
        "    labels = []\n",
        "    for i in range(0, len(df) - time_steps, step):\n",
        "        axs = df[' AccelerationX'].values[i: i + time_steps]\n",
        "        ays = df[' AccelerationY'].values[i: i + time_steps]\n",
        "        azs = df[' AccelerationZ'].values[i: i + time_steps]\n",
        "\n",
        "        gxs = df[' GyroX'].values[i: i + time_steps]\n",
        "        gys = df[' GyroY'].values[i: i + time_steps]\n",
        "        gzs = df[' GyroZ'].values[i: i + time_steps]\n",
        "\n",
        "        axs = df[' MagneticFieldX'].values[i: i + time_steps]\n",
        "        ays = df[' MagneticFieldY'].values[i: i + time_steps]\n",
        "        azs = df[' MagneticFieldZ'].values[i: i + time_steps]\n",
        "\n",
        "        # Retrieve the most often used label in this segment\n",
        "        label = stats.mode(df[label_name][i: i + time_steps])[0][0]\n",
        "        segments.append([axs, ays, azs, gxs, gys, gzs, axs, ays, azs])\n",
        "        labels.append(label)\n",
        "    # Bring the segments into a better shape\n",
        "    reshaped_segments = np.asarray(segments, dtype= np.float32).reshape(-1, time_steps, N_FEATURES)\n",
        "    labels = np.asarray(labels)\n",
        "    return reshaped_segments, labels"
      ],
      "metadata": {
        "id": "qYUYL9kbdKgD"
      },
      "execution_count": 12,
      "outputs": []
    },
    {
      "cell_type": "code",
      "source": [
        "x_train, y_train = create_segments_and_labels(df_train,\n",
        "                                              TIME_PERIODS,\n",
        "                                              STEP_DISTANCE,\n",
        "                                              LABEL)"
      ],
      "metadata": {
        "id": "WsH1PuMPgn46"
      },
      "execution_count": 66,
      "outputs": []
    },
    {
      "cell_type": "code",
      "source": [
        "print('x_train shape: ', x_train.shape)\n",
        "print(x_train.shape[0], 'training samples')\n",
        "print('y_train shape: ', y_train.shape)"
      ],
      "metadata": {
        "colab": {
          "base_uri": "https://localhost:8080/"
        },
        "id": "rdd3e_Zkf0s1",
        "outputId": "bea2c42d-1d2c-4446-a88e-e80c7ec2c310"
      },
      "execution_count": 67,
      "outputs": [
        {
          "output_type": "stream",
          "name": "stdout",
          "text": [
            "x_train shape:  (2157, 180, 9)\n",
            "2157 training samples\n",
            "y_train shape:  (2157,)\n"
          ]
        }
      ]
    },
    {
      "cell_type": "markdown",
      "source": [
        "# 2. Model Training"
      ],
      "metadata": {
        "id": "kXXnLRMbsTW1"
      }
    },
    {
      "cell_type": "markdown",
      "source": [
        "#### Set input & output dimensions\n"
      ],
      "metadata": {
        "id": "gGTeIOj-lVPp"
      }
    },
    {
      "cell_type": "code",
      "source": [
        "num_time_periods, num_sensors = x_train.shape[1], x_train.shape[2]\n",
        "num_classes = label_encode.classes_.size\n",
        "\n",
        "print(list(label_encode.classes_))"
      ],
      "metadata": {
        "colab": {
          "base_uri": "https://localhost:8080/"
        },
        "id": "MhrD9YIzf5VA",
        "outputId": "2b99b5bf-6bc9-429d-f0de-43fcf619836b"
      },
      "execution_count": 68,
      "outputs": [
        {
          "output_type": "stream",
          "name": "stdout",
          "text": [
            "['back_left', 'back_right', 'front_left', 'front_right']\n"
          ]
        }
      ]
    },
    {
      "cell_type": "markdown",
      "source": [
        "#### Data Preparation"
      ],
      "metadata": {
        "id": "6zUz3atrlYlt"
      }
    },
    {
      "cell_type": "code",
      "source": [
        "input_shape = (num_time_periods*num_sensors)\n",
        "x_train = x_train.reshape(x_train.shape[0], input_shape)\n",
        "x_train = x_train.astype('float32')\n",
        "y_train = y_train.astype('float32')\n",
        "y_train_hot = to_categorical(y_train, num_classes)"
      ],
      "metadata": {
        "id": "P1rWKuAlgP6R"
      },
      "execution_count": 69,
      "outputs": []
    },
    {
      "cell_type": "code",
      "source": [
        "print('input_shape:', input_shape)\n",
        "print('x_train shape:', x_train.shape)\n",
        "print('New y_train shape: ', y_train_hot.shape)"
      ],
      "metadata": {
        "colab": {
          "base_uri": "https://localhost:8080/"
        },
        "id": "Yp_BWQRNp8zT",
        "outputId": "fe41af81-3b17-476b-b082-e50aad4137f1"
      },
      "execution_count": 70,
      "outputs": [
        {
          "output_type": "stream",
          "name": "stdout",
          "text": [
            "input_shape: 1620\n",
            "x_train shape: (2157, 1620)\n",
            "New y_train shape:  (2157, 4)\n"
          ]
        }
      ]
    },
    {
      "cell_type": "markdown",
      "source": [
        "#### Creating a Model"
      ],
      "metadata": {
        "id": "FrDkA7j-lQDn"
      }
    },
    {
      "cell_type": "code",
      "source": [
        "model = tfdf.keras.RandomForestModel()"
      ],
      "metadata": {
        "colab": {
          "base_uri": "https://localhost:8080/"
        },
        "id": "RhYEq9eGlPsM",
        "outputId": "11c5a612-5f89-44d9-f0c3-bbcbf7d403a2"
      },
      "execution_count": 71,
      "outputs": [
        {
          "output_type": "stream",
          "name": "stdout",
          "text": [
            "Use /tmp/tmpyw5zmg3q as temporary training directory\n"
          ]
        }
      ]
    },
    {
      "cell_type": "markdown",
      "source": [
        "#### Fit the Model in Keras"
      ],
      "metadata": {
        "id": "t7XNNbXHl0ch"
      }
    },
    {
      "cell_type": "code",
      "source": [
        "model.compile(metrics=[\"mae\"])\n",
        "# Hyper-parameters\n",
        "BATCH_SIZE = 100\n",
        "EPOCHS = 1\n",
        "\n",
        "# Enable validation to use ModelCheckpoint and EarlyStopping callbacks.\n",
        "history = model.fit(x_train,\n",
        "                      y_train,\n",
        "                      batch_size=BATCH_SIZE,\n",
        "                      epochs=EPOCHS)"
      ],
      "metadata": {
        "colab": {
          "base_uri": "https://localhost:8080/"
        },
        "id": "JwnnSsbRlc28",
        "outputId": "9ef32910-5429-491e-b636-f3a5d3451e95"
      },
      "execution_count": 76,
      "outputs": [
        {
          "output_type": "stream",
          "name": "stdout",
          "text": [
            "Warning: Model constructor argument batch_size=100 not supported. See https://www.tensorflow.org/decision_forests/migration for an explanation about the specificities of TF-DF.\n"
          ]
        },
        {
          "output_type": "stream",
          "name": "stderr",
          "text": [
            "WARNING:absl:Model constructor argument batch_size=100 not supported. See https://www.tensorflow.org/decision_forests/migration for an explanation about the specificities of TF-DF.\n"
          ]
        },
        {
          "output_type": "stream",
          "name": "stdout",
          "text": [
            "Reading training dataset...\n",
            "Training dataset read in 0:00:18.837921. Found 2157 examples.\n",
            "Training model...\n",
            "Model trained in 0:00:57.932614\n",
            "Compiling model...\n",
            "Model compiled.\n"
          ]
        }
      ]
    },
    {
      "cell_type": "markdown",
      "source": [
        "### Prep for Model Performance Evaluation & Visualization"
      ],
      "metadata": {
        "id": "CgRHSSIjmtPc"
      }
    },
    {
      "cell_type": "markdown",
      "source": [
        "Create test data for evaluation"
      ],
      "metadata": {
        "id": "1wK4UvM8xAPo"
      }
    },
    {
      "cell_type": "code",
      "source": [
        "df_test[' AccelerationX'] = (df_test[' AccelerationX']-df_test[' AccelerationX'].min())/(df_test[' AccelerationX'].max()-df_test[' AccelerationX'].min())\n",
        "df_test[' AccelerationY'] = (df_test[' AccelerationY']-df_test[' AccelerationY'].min())/(df_test[' AccelerationY'].max()-df_test[' AccelerationY'].min())\n",
        "df_test[' AccelerationZ'] = (df_test[' AccelerationZ']-df_test[' AccelerationZ'].min())/(df_test[' AccelerationZ'].max()-df_test[' AccelerationZ'].min())\n",
        "\n",
        "df_test[' MagneticFieldX'] = (df_test[' MagneticFieldX']-df_test[' MagneticFieldX'].min())/(df_test[' MagneticFieldX'].max()-df_test[' MagneticFieldX'].min())\n",
        "df_test[' MagneticFieldY'] = (df_test[' MagneticFieldY']-df_test[' MagneticFieldY'].min())/(df_test[' MagneticFieldY'].max()-df_test[' MagneticFieldY'].min())\n",
        "df_test[' MagneticFieldZ'] = (df_test[' MagneticFieldZ']-df_test[' MagneticFieldZ'].min())/(df_test[' MagneticFieldZ'].max()-df_test[' MagneticFieldZ'].min())\n",
        "\n",
        "df_test[' GyroX'] = (df_test[' GyroX']-df_test[' GyroX'].min())/(df_test[' GyroX'].max()-df_test[' GyroX'].min())\n",
        "df_test[' GyroY'] = (df_test[' GyroY']-df_test[' GyroY'].min())/(df_test[' GyroY'].max()-df_test[' GyroY'].min())\n",
        "df_test[' GyroZ'] = (df_test[' GyroZ']-df_test[' GyroZ'].min())/(df_test[' GyroZ'].max()-df_test[' GyroZ'].min())\n",
        "\n",
        "x_test, y_test = create_segments_and_labels(df_test,\n",
        "                                              TIME_PERIODS,\n",
        "                                              STEP_DISTANCE,\n",
        "                                              LABEL)\n",
        "\n",
        "x_test = x_test.reshape(x_test.shape[0], input_shape)\n",
        "x_test = x_test.astype('float32')\n",
        "y_test = y_test.astype('float32')\n",
        "y_test = to_categorical(y_test, num_classes)"
      ],
      "metadata": {
        "colab": {
          "base_uri": "https://localhost:8080/"
        },
        "id": "Sj1Rxo1pw_yt",
        "outputId": "641ff3c1-2ab4-45e5-bcb0-d0710a1cd293"
      },
      "execution_count": 79,
      "outputs": [
        {
          "output_type": "stream",
          "name": "stderr",
          "text": [
            "<ipython-input-79-b8a9709de067>:1: SettingWithCopyWarning: \n",
            "A value is trying to be set on a copy of a slice from a DataFrame.\n",
            "Try using .loc[row_indexer,col_indexer] = value instead\n",
            "\n",
            "See the caveats in the documentation: https://pandas.pydata.org/pandas-docs/stable/user_guide/indexing.html#returning-a-view-versus-a-copy\n",
            "  df_test[' AccelerationX'] = (df_test[' AccelerationX']-df_test[' AccelerationX'].min())/(df_test[' AccelerationX'].max()-df_test[' AccelerationX'].min())\n",
            "<ipython-input-79-b8a9709de067>:2: SettingWithCopyWarning: \n",
            "A value is trying to be set on a copy of a slice from a DataFrame.\n",
            "Try using .loc[row_indexer,col_indexer] = value instead\n",
            "\n",
            "See the caveats in the documentation: https://pandas.pydata.org/pandas-docs/stable/user_guide/indexing.html#returning-a-view-versus-a-copy\n",
            "  df_test[' AccelerationY'] = (df_test[' AccelerationY']-df_test[' AccelerationY'].min())/(df_test[' AccelerationY'].max()-df_test[' AccelerationY'].min())\n",
            "<ipython-input-79-b8a9709de067>:3: SettingWithCopyWarning: \n",
            "A value is trying to be set on a copy of a slice from a DataFrame.\n",
            "Try using .loc[row_indexer,col_indexer] = value instead\n",
            "\n",
            "See the caveats in the documentation: https://pandas.pydata.org/pandas-docs/stable/user_guide/indexing.html#returning-a-view-versus-a-copy\n",
            "  df_test[' AccelerationZ'] = (df_test[' AccelerationZ']-df_test[' AccelerationZ'].min())/(df_test[' AccelerationZ'].max()-df_test[' AccelerationZ'].min())\n",
            "<ipython-input-79-b8a9709de067>:5: SettingWithCopyWarning: \n",
            "A value is trying to be set on a copy of a slice from a DataFrame.\n",
            "Try using .loc[row_indexer,col_indexer] = value instead\n",
            "\n",
            "See the caveats in the documentation: https://pandas.pydata.org/pandas-docs/stable/user_guide/indexing.html#returning-a-view-versus-a-copy\n",
            "  df_test[' MagneticFieldX'] = (df_test[' MagneticFieldX']-df_test[' MagneticFieldX'].min())/(df_test[' MagneticFieldX'].max()-df_test[' MagneticFieldX'].min())\n",
            "<ipython-input-79-b8a9709de067>:6: SettingWithCopyWarning: \n",
            "A value is trying to be set on a copy of a slice from a DataFrame.\n",
            "Try using .loc[row_indexer,col_indexer] = value instead\n",
            "\n",
            "See the caveats in the documentation: https://pandas.pydata.org/pandas-docs/stable/user_guide/indexing.html#returning-a-view-versus-a-copy\n",
            "  df_test[' MagneticFieldY'] = (df_test[' MagneticFieldY']-df_test[' MagneticFieldY'].min())/(df_test[' MagneticFieldY'].max()-df_test[' MagneticFieldY'].min())\n",
            "<ipython-input-79-b8a9709de067>:7: SettingWithCopyWarning: \n",
            "A value is trying to be set on a copy of a slice from a DataFrame.\n",
            "Try using .loc[row_indexer,col_indexer] = value instead\n",
            "\n",
            "See the caveats in the documentation: https://pandas.pydata.org/pandas-docs/stable/user_guide/indexing.html#returning-a-view-versus-a-copy\n",
            "  df_test[' MagneticFieldZ'] = (df_test[' MagneticFieldZ']-df_test[' MagneticFieldZ'].min())/(df_test[' MagneticFieldZ'].max()-df_test[' MagneticFieldZ'].min())\n",
            "<ipython-input-79-b8a9709de067>:9: SettingWithCopyWarning: \n",
            "A value is trying to be set on a copy of a slice from a DataFrame.\n",
            "Try using .loc[row_indexer,col_indexer] = value instead\n",
            "\n",
            "See the caveats in the documentation: https://pandas.pydata.org/pandas-docs/stable/user_guide/indexing.html#returning-a-view-versus-a-copy\n",
            "  df_test[' GyroX'] = (df_test[' GyroX']-df_test[' GyroX'].min())/(df_test[' GyroX'].max()-df_test[' GyroX'].min())\n",
            "<ipython-input-79-b8a9709de067>:10: SettingWithCopyWarning: \n",
            "A value is trying to be set on a copy of a slice from a DataFrame.\n",
            "Try using .loc[row_indexer,col_indexer] = value instead\n",
            "\n",
            "See the caveats in the documentation: https://pandas.pydata.org/pandas-docs/stable/user_guide/indexing.html#returning-a-view-versus-a-copy\n",
            "  df_test[' GyroY'] = (df_test[' GyroY']-df_test[' GyroY'].min())/(df_test[' GyroY'].max()-df_test[' GyroY'].min())\n",
            "<ipython-input-79-b8a9709de067>:11: SettingWithCopyWarning: \n",
            "A value is trying to be set on a copy of a slice from a DataFrame.\n",
            "Try using .loc[row_indexer,col_indexer] = value instead\n",
            "\n",
            "See the caveats in the documentation: https://pandas.pydata.org/pandas-docs/stable/user_guide/indexing.html#returning-a-view-versus-a-copy\n",
            "  df_test[' GyroZ'] = (df_test[' GyroZ']-df_test[' GyroZ'].min())/(df_test[' GyroZ'].max()-df_test[' GyroZ'].min())\n"
          ]
        }
      ]
    },
    {
      "cell_type": "markdown",
      "source": [
        "Create confusion matrix plotting function"
      ],
      "metadata": {
        "id": "XtkM1B6tv4xA"
      }
    },
    {
      "cell_type": "code",
      "source": [
        "def show_confusion_matrix(validations, predictions):\n",
        "\n",
        "    matrix = metrics.confusion_matrix(validations, predictions)\n",
        "    plt.figure(figsize=(6, 4))\n",
        "    sns.heatmap(matrix,\n",
        "                cmap='coolwarm',\n",
        "                linecolor='white',\n",
        "                linewidths=1,\n",
        "                xticklabels=LABELS,\n",
        "                yticklabels=LABELS,\n",
        "                annot=True,\n",
        "                fmt='d')\n",
        "    plt.title('Confusion Matrix')\n",
        "    plt.ylabel('True Label')\n",
        "    plt.xlabel('Predicted Label')\n",
        "    plt.show()"
      ],
      "metadata": {
        "id": "iLuYoG_usxcN"
      },
      "execution_count": 80,
      "outputs": []
    },
    {
      "cell_type": "markdown",
      "source": [
        "### Result of Model"
      ],
      "metadata": {
        "id": "wU452nMRxEV0"
      }
    },
    {
      "cell_type": "code",
      "source": [
        "# Print confusion matrix for training data\n",
        "y_pred_train = model.predict(x_train)\n",
        "# Take the class with the highest probability from the train predictions\n",
        "max_y_pred_train = np.argmax(y_pred_train, axis=1)\n",
        "print(classification_report(y_train, max_y_pred_train))"
      ],
      "metadata": {
        "colab": {
          "base_uri": "https://localhost:8080/"
        },
        "id": "src-X7lqwGdV",
        "outputId": "39afc1c1-e253-43c3-9dc6-e78f6101955a"
      },
      "execution_count": 81,
      "outputs": [
        {
          "output_type": "stream",
          "name": "stdout",
          "text": [
            "68/68 [==============================] - 7s 10ms/step\n",
            "              precision    recall  f1-score   support\n",
            "\n",
            "         0.0       1.00      1.00      1.00       568\n",
            "         1.0       1.00      1.00      1.00       554\n",
            "         2.0       1.00      1.00      1.00       463\n",
            "         3.0       1.00      1.00      1.00       572\n",
            "\n",
            "    accuracy                           1.00      2157\n",
            "   macro avg       1.00      1.00      1.00      2157\n",
            "weighted avg       1.00      1.00      1.00      2157\n",
            "\n"
          ]
        }
      ]
    },
    {
      "cell_type": "code",
      "source": [
        "score = model_B.evaluate(x_test, y_test)\n",
        "print(score)"
      ],
      "metadata": {
        "colab": {
          "base_uri": "https://localhost:8080/"
        },
        "id": "mQpYw79GsrzY",
        "outputId": "29c1c287-d349-440f-c7a7-573b6bbc51bd"
      },
      "execution_count": 82,
      "outputs": [
        {
          "output_type": "stream",
          "name": "stdout",
          "text": [
            "11/11 [==============================] - 0s 2ms/step\n",
            "[]\n"
          ]
        }
      ]
    },
    {
      "cell_type": "code",
      "source": [
        "y_pred_test = model.predict(x_test)\n",
        "max_y_pred_test = np.argmax(y_pred_test, axis=1)\n",
        "max_y_test = np.argmax(y_test, axis=1)\n",
        "show_confusion_matrix(max_y_test, max_y_pred_test)\n",
        "print(classification_report(max_y_test, max_y_pred_test))"
      ],
      "metadata": {
        "colab": {
          "base_uri": "https://localhost:8080/",
          "height": 516
        },
        "id": "4YohjxC_rMwS",
        "outputId": "5434e0ab-f7aa-44d5-fc03-2c67f998ed2b"
      },
      "execution_count": 83,
      "outputs": [
        {
          "output_type": "stream",
          "name": "stdout",
          "text": [
            "11/11 [==============================] - 6s 10ms/step\n"
          ]
        },
        {
          "output_type": "display_data",
          "data": {
            "text/plain": [
              "<Figure size 432x288 with 2 Axes>"
            ],
            "image/png": "[encoded data removed]"
          },
          "metadata": {}
        },
        {
          "output_type": "stream",
          "name": "stdout",
          "text": [
            "              precision    recall  f1-score   support\n",
            "\n",
            "           0       0.84      0.96      0.90        91\n",
            "           1       0.88      0.68      0.77        88\n",
            "           2       0.63      0.78      0.70        73\n",
            "           3       0.89      0.80      0.84        91\n",
            "\n",
            "    accuracy                           0.81       343\n",
            "   macro avg       0.81      0.81      0.80       343\n",
            "weighted avg       0.82      0.81      0.81       343\n",
            "\n"
          ]
        }
      ]
    },
    {
      "cell_type": "code",
      "source": [
        "model.save('../trained_model-v1')"
      ],
      "metadata": {
        "colab": {
          "base_uri": "https://localhost:8080/"
        },
        "id": "_ZxkC_20M2nT",
        "outputId": "ca0f582c-ea5a-4e32-f67d-cf66b9b68651"
      },
      "execution_count": 85,
      "outputs": [
        {
          "output_type": "stream",
          "name": "stderr",
          "text": [
            "WARNING:absl:Found untraced functions such as call_get_leaves, _update_step_xla while saving (showing 2 of 2). These functions will not be directly callable after loading.\n"
          ]
        }
      ]
    },
    {
      "cell_type": "code",
      "source": [],
      "metadata": {
        "id": "W74Sv_hKOuNo"
      },
      "execution_count": null,
      "outputs": []
    }
  ]
}